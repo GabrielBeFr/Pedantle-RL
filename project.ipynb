{
 "cells": [
  {
   "cell_type": "markdown",
   "metadata": {},
   "source": [
    "### This Jupyter Notebook is used to try and test."
   ]
  },
  {
   "cell_type": "code",
   "execution_count": 5,
   "metadata": {},
   "outputs": [
    {
     "data": {
      "application/vnd.jupyter.widget-view+json": {
       "model_id": "2188472b98694a429a5afc32909df044",
       "version_major": 2,
       "version_minor": 0
      },
      "text/plain": [
       "Downloading:   0%|          | 0.00/1.66k [00:00<?, ?B/s]"
      ]
     },
     "metadata": {},
     "output_type": "display_data"
    },
    {
     "data": {
      "application/vnd.jupyter.widget-view+json": {
       "model_id": "3b6a0d0a83664022b7031270d39d2e33",
       "version_major": 2,
       "version_minor": 0
      },
      "text/plain": [
       "Downloading:   0%|          | 0.00/235M [00:00<?, ?B/s]"
      ]
     },
     "metadata": {},
     "output_type": "display_data"
    },
    {
     "name": "stdout",
     "output_type": "stream",
     "text": [
      "RAM memory used: 4 MB\n",
      "Iterated over the 0.2 GB dataset in 1.0 s, i.e. 1.7 Gbit/s\n"
     ]
    }
   ],
   "source": [
    "import os; import psutil; import timeit\n",
    "from datasets import load_dataset\n",
    "\n",
    "mem_before = psutil.Process(os.getpid()).memory_info().rss >> 20\n",
    "wiki = load_dataset(\"wikipedia\", \"20220301.simple\", split='train')\n",
    "mem_after = psutil.Process(os.getpid()).memory_info().rss >> 20\n",
    "print(f\"RAM memory used: {(mem_after - mem_before)} MB\")\n",
    "\n",
    "s = \"\"\"batch_size = 1000\n",
    "for i in range(0, len(wiki), batch_size):\n",
    "    batch = wiki[i:i + batch_size]\n",
    "\"\"\"\n",
    "time = timeit.timeit(stmt=s, number=1, globals=globals())\n",
    "size = wiki.dataset_size / 2**30\n",
    "print(f\"Iterated over the {size:.1f} GB dataset in {time:.1f} s, i.e. {size * 8/time:.1f} Gbit/s\")\n",
    "\n",
    "wiki.to_csv(\"wikipedia_dataset.csv\")"
   ]
  },
  {
   "cell_type": "code",
   "execution_count": 53,
   "metadata": {},
   "outputs": [
    {
     "name": "stdout",
     "output_type": "stream",
     "text": [
      "[1 0 0]\n",
      "('D88fn',)\n"
     ]
    }
   ],
   "source": [
    "from gym.spaces import Sequence, Box, MultiBinary, MultiDiscrete, Text\n",
    "import numpy as np\n",
    "title = MultiBinary(3)\n",
    "words = Sequence(Text(5))\n",
    "print(title.sample())\n",
    "print(words.sample())"
   ]
  },
  {
   "cell_type": "code",
   "execution_count": 33,
   "metadata": {},
   "outputs": [
    {
     "name": "stdout",
     "output_type": "stream",
     "text": [
      "   id                                       url   title  \\\n",
      "0   1   https://simple.wikipedia.org/wiki/April   April   \n",
      "1   2  https://simple.wikipedia.org/wiki/August  August   \n",
      "2   6     https://simple.wikipedia.org/wiki/Art     Art   \n",
      "3   8       https://simple.wikipedia.org/wiki/A       A   \n",
      "4   9     https://simple.wikipedia.org/wiki/Air     Air   \n",
      "\n",
      "                                                text  \n",
      "0  April is the fourth month of the year in the J...  \n",
      "1  August (Aug.) is the eighth month of the year ...  \n",
      "2  Art is a creative activity that expresses imag...  \n",
      "3  A or a is the first letter of the English alph...  \n",
      "4  Air refers to the Earth's atmosphere. Air is a...  \n"
     ]
    }
   ],
   "source": [
    "from pandas import read_csv\n",
    "wiki = read_csv(\"wikipedia_simple.csv\")\n",
    "print(wiki.head())"
   ]
  },
  {
   "cell_type": "code",
   "execution_count": 97,
   "metadata": {},
   "outputs": [
    {
     "name": "stdout",
     "output_type": "stream",
     "text": [
      "Gumbasia\n",
      "https://simple.wikipedia.org/wiki/Gumbasia\n",
      "Hello maman - tu es grande (enfin pas + que ça) ! \n",
      " J'ai 15 ans. \n",
      "Caca  \n",
      "\n",
      " Mais enfin quoi ?\n",
      "['Hello', 'maman', 'tu', 'es', 'grande', '(', 'enfin', 'pas', '+', 'que', 'ça', ')', '!', \"J'ai\", '15', 'ans', '.', 'Caca', 'Mais', 'enfin', 'quoi', '?']\n"
     ]
    },
    {
     "data": {
      "text/plain": [
       "22"
      ]
     },
     "execution_count": 97,
     "metadata": {},
     "output_type": "execute_result"
    }
   ],
   "source": [
    "article = wiki.sample()\n",
    "article = article.to_dict(orient=\"records\")[0]\n",
    "print(article.pop(\"title\"))\n",
    "print(article.pop(\"url\"))\n",
    "\n",
    "import re\n",
    "\n",
    "# Your input string\n",
    "input_string = \"Hello maman - tu es grande (enfin pas + que ça) ! \\n J'ai 15 ans. \\nCaca  \\n\\n Mais enfin quoi ?\"\n",
    "\n",
    "# Define the pattern\n",
    "pattern = r'([\\s\\S]*?)\\n\\n\\w+[\\s]*\\n\\n'\n",
    "\n",
    "# Search for the pattern in the input string\n",
    "match = re.search(pattern, input_string)\n",
    "\n",
    "# Extract the text before the first occurrence of the pattern\n",
    "if match:\n",
    "    text_before_word = match.group(1)\n",
    "    output_string = text_before_word\n",
    "else:\n",
    "    output_string = input_string\n",
    "\n",
    "output_string = re.sub(r'\\s+', ' ', output_string)\n",
    "print(input_string)\n",
    "words = re.findall(r\"[\\w']+|[.,!?;-_=+\\(\\)\\[\\]]\", output_string)\n",
    "print(words)\n",
    "len(words)"
   ]
  },
  {
   "cell_type": "code",
   "execution_count": 8,
   "metadata": {},
   "outputs": [],
   "source": [
    "\n",
    "import gym\n",
    "from gym.wrappers import FlattenObservation\n",
    "\n",
    "env = gym.make('gym_examples/GridWorld-v0')"
   ]
  },
  {
   "cell_type": "code",
   "execution_count": 2,
   "metadata": {},
   "outputs": [
    {
     "name": "stdout",
     "output_type": "stream",
     "text": [
      "['Aydın', 'Boysan']\n"
     ]
    },
    {
     "name": "stderr",
     "output_type": "stream",
     "text": [
      "/home/gabriel/.pyenv/versions/3.10.13/lib/python3.10/site-packages/gym/utils/passive_env_checker.py:233: DeprecationWarning: `np.bool8` is a deprecated alias for `np.bool_`.  (Deprecated NumPy 1.24)\n",
      "  if not isinstance(terminated, (bool, np.bool8)):\n"
     ]
    }
   ],
   "source": [
    "import gym_examples\n",
    "import gym\n",
    "from pdb import set_trace\n",
    "env = gym.make(\"gym_examples/GridWorld-v0\", render_mode=\"human\")\n",
    "\n",
    "env.action_space.seed(42)\n",
    "\n",
    "observation, info = env.reset(seed=42)\n",
    "\n",
    "def simple_policy(observation):\n",
    "    # Simple policy: move right if possible, otherwise move up\n",
    "    x, y = observation['agent']\n",
    "    X, Y = observation['target']\n",
    "    if x - X < 0:\n",
    "        return 0  # Move right\n",
    "    elif x - X > 0:\n",
    "        return 2\n",
    "    elif y - Y < 0:\n",
    "        return 1  # Move up\n",
    "    else:\n",
    "        return 3  # No valid moves left, stay in place\n",
    "\n",
    "for _ in range(10):\n",
    "    action = simple_policy(observation)\n",
    "    observation, reward, terminated, truncated, info = env.step(action)\n",
    "\n",
    "    if terminated or truncated:\n",
    "        observation, info = env.reset()\n",
    "\n",
    "env.close()"
   ]
  }
 ],
 "metadata": {
  "kernelspec": {
   "display_name": "Python 3",
   "language": "python",
   "name": "python3"
  },
  "language_info": {
   "codemirror_mode": {
    "name": "ipython",
    "version": 3
   },
   "file_extension": ".py",
   "mimetype": "text/x-python",
   "name": "python",
   "nbconvert_exporter": "python",
   "pygments_lexer": "ipython3",
   "version": "3.10.13"
  }
 },
 "nbformat": 4,
 "nbformat_minor": 2
}
