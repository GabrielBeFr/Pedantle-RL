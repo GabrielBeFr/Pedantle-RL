{
 "cells": [
  {
   "cell_type": "markdown",
   "metadata": {},
   "source": [
    "### This Jupyter Notebook is used to try the rest of the code."
   ]
  },
  {
   "cell_type": "code",
   "execution_count": 17,
   "metadata": {},
   "outputs": [
    {
     "name": "stdout",
     "output_type": "stream",
     "text": [
      "Loading small embedding model for testing\n"
     ]
    },
    {
     "name": "stderr",
     "output_type": "stream",
     "text": [
      "/home/gabriel/.pyenv/versions/3.10.13/lib/python3.10/site-packages/gym/utils/passive_env_checker.py:165: UserWarning: \u001b[33mWARN: The obs returned by the `reset()` method is not within the observation space.\u001b[0m\n",
      "  logger.warn(f\"{pre} is not within the observation space.\")\n",
      "/home/gabriel/.pyenv/versions/3.10.13/lib/python3.10/site-packages/gym/utils/passive_env_checker.py:146: UserWarning: \u001b[33mWARN: The obs returned by the `reset()` method was expecting a numpy array, actual type: <class 'list'>\u001b[0m\n",
      "  logger.warn(f\"{pre} was expecting a numpy array, actual type: {type(obs)}\")\n",
      "/home/gabriel/.pyenv/versions/3.10.13/lib/python3.10/site-packages/gym/utils/passive_env_checker.py:233: DeprecationWarning: `np.bool8` is a deprecated alias for `np.bool_`.  (Deprecated NumPy 1.24)\n",
      "  if not isinstance(terminated, (bool, np.bool8)):\n",
      "/home/gabriel/.pyenv/versions/3.10.13/lib/python3.10/site-packages/gym/utils/passive_env_checker.py:165: UserWarning: \u001b[33mWARN: The obs returned by the `step()` method is not within the observation space.\u001b[0m\n",
      "  logger.warn(f\"{pre} is not within the observation space.\")\n",
      "/home/gabriel/.pyenv/versions/3.10.13/lib/python3.10/site-packages/gym/utils/passive_env_checker.py:146: UserWarning: \u001b[33mWARN: The obs returned by the `step()` method was expecting a numpy array, actual type: <class 'list'>\u001b[0m\n",
      "  logger.warn(f\"{pre} was expecting a numpy array, actual type: {type(obs)}\")\n"
     ]
    }
   ],
   "source": [
    "import gym_examples\n",
    "import gym\n",
    "from pdb import set_trace\n",
    "import time\n",
    "\n",
    "env = gym.make(\n",
    "    \"gym_examples/Pedantle-v0\", \n",
    "    render_mode=\"human\", \n",
    "    test_model=True, \n",
    "    wiki_file=\"/home/gabriel/cours/RL/projet/wikipedia_april.csv\",\n",
    "    )\n",
    "\n",
    "env.action_space.seed(42)\n",
    "\n",
    "observation = env.reset(seed=42)\n",
    "\n",
    "while True:\n",
    "    user_input = input(\"Type 'Z' to continue: \")\n",
    "    if user_input == \"Z\":\n",
    "        break\n",
    "    time.sleep(2)\n",
    "\n",
    "actions = [\"and\",\"fourth\",\"be\",\"the\",\"of\",\"year\",\"is\",\"be\",\"for\",\"day\",\"always\",\"often\",\"between\",\"come\",\"can\",\"do\",\"in\",\"common\",\"start\",\"first\",\"second\",\"April\"]\n",
    "for i in range(20):\n",
    "    action = actions[i]\n",
    "    time.sleep(2)\n",
    "    observation, reward, terminated, _, _ = env.step(action)\n",
    "\n",
    "    if terminated:\n",
    "        observation, info = env.reset()\n",
    "\n",
    "env.close()"
   ]
  },
  {
   "cell_type": "code",
   "execution_count": 9,
   "metadata": {},
   "outputs": [
    {
     "ename": "SystemExit",
     "evalue": "",
     "output_type": "error",
     "traceback": [
      "An exception has occurred, use %tb to see the full traceback.\n",
      "\u001b[0;31mSystemExit\u001b[0m\n"
     ]
    },
    {
     "name": "stderr",
     "output_type": "stream",
     "text": [
      "/home/gabriel/.local/lib/python3.10/site-packages/IPython/core/interactiveshell.py:3534: UserWarning: To exit: use 'exit', 'quit', or Ctrl-D.\n",
      "  warn(\"To exit: use 'exit', 'quit', or Ctrl-D.\", stacklevel=1)\n"
     ]
    }
   ],
   "source": [
    "import pygame, sys\n",
    "pygame.quit()\n",
    "sys.exit()"
   ]
  },
  {
   "cell_type": "code",
   "execution_count": 18,
   "metadata": {},
   "outputs": [],
   "source": [
    "from gensim.models import KeyedVectors, word2vec\n",
    "EMBEDDING_FILE = \"GoogleNews-vectors-negative300.bin\"\n",
    "model = KeyedVectors.load_word2vec_format(EMBEDDING_FILE, binary=True)"
   ]
  },
  {
   "cell_type": "code",
   "execution_count": 24,
   "metadata": {},
   "outputs": [
    {
     "data": {
      "text/plain": [
       "0.5571293234825134"
      ]
     },
     "execution_count": 24,
     "metadata": {},
     "output_type": "execute_result"
    }
   ],
   "source": [
    "from sklearn.metrics.pairwise import cosine_similarity\n",
    "king, queen = model[\"month\"], model[\"April\"]\n",
    "cosine_similarity([king], [queen]).item()"
   ]
  },
  {
   "cell_type": "code",
   "execution_count": 6,
   "metadata": {},
   "outputs": [
    {
     "data": {
      "image/png": "[encoded data removed]",
      "text/plain": [
       "<Figure size 640x480 with 1 Axes>"
      ]
     },
     "metadata": {},
     "output_type": "display_data"
    },
    {
     "name": "stdout",
     "output_type": "stream",
     "text": [
      "0.5585357993841171\n"
     ]
    }
   ],
   "source": [
    "import matplotlib.pyplot as plt\n",
    "import pandas as pd\n",
    "\n",
    "df = pd.read_csv(\"threshold.csv\")\n",
    "thresholds_max = [2]\n",
    "thresholds_min = [0]\n",
    "for i, row in df.iterrows():\n",
    "    proposed_word, true_word = row[\"proposed_word\"], row[\"true_word\"]\n",
    "    proposed_word, true_word = model[proposed_word], model[true_word]\n",
    "    similarity = cosine_similarity([proposed_word], [true_word]).item()\n",
    "    score = df[\"match\"][i]\n",
    "    if score:\n",
    "        if similarity < thresholds_max[-1]:\n",
    "            thresholds_max.append(similarity)\n",
    "        else:\n",
    "            thresholds_max.append(thresholds_max[-1])\n",
    "        thresholds_min.append(thresholds_min[-1])\n",
    "    else:\n",
    "        if similarity > thresholds_min[-1]:\n",
    "            thresholds_min.append(similarity)\n",
    "        else:\n",
    "            thresholds_min.append(thresholds_min[-1])\n",
    "        thresholds_max.append(thresholds_max[-1])\n",
    "\n",
    "plt.plot(thresholds_max, color=\"red\")\n",
    "plt.plot(thresholds_min, color=\"blue\")\n",
    "plt.show()\n",
    "import numpy as np \n",
    "print(np.mean((thresholds_max[-1], thresholds_min[-1])))"
   ]
  },
  {
   "cell_type": "code",
   "execution_count": 52,
   "metadata": {},
   "outputs": [
    {
     "data": {
      "text/plain": [
       "0.4536105692386627"
      ]
     },
     "execution_count": 52,
     "metadata": {},
     "output_type": "execute_result"
    }
   ],
   "source": [
    "cosine_similarity([model[\"he\"]],[model[\"they\"]]).item()"
   ]
  }
 ],
 "metadata": {
  "kernelspec": {
   "display_name": "Python 3",
   "language": "python",
   "name": "python3"
  },
  "language_info": {
   "codemirror_mode": {
    "name": "ipython",
    "version": 3
   },
   "file_extension": ".py",
   "mimetype": "text/x-python",
   "name": "python",
   "nbconvert_exporter": "python",
   "pygments_lexer": "ipython3",
   "version": "3.10.13"
  }
 },
 "nbformat": 4,
 "nbformat_minor": 2
}
